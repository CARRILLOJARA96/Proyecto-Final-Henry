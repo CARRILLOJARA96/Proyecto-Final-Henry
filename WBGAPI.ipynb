{
 "cells": [
  {
   "cell_type": "code",
   "execution_count": 8,
   "metadata": {},
   "outputs": [],
   "source": [
    "import wbgapi as wb\n",
    "import pandas as pd\n"
   ]
  },
  {
   "cell_type": "code",
   "execution_count": null,
   "metadata": {},
   "outputs": [],
   "source": [
    "help(wb)  \n",
    "#help(wb.series)"
   ]
  },
  {
   "cell_type": "code",
   "execution_count": 11,
   "metadata": {},
   "outputs": [
    {
     "data": {
      "text/html": [
       "<div class=\"wbgapi\"><table>\n",
       "<thead>\n",
       "<tr><th>id  </th><th>value        </th><th>region  </th><th>incomeLevel  </th></tr>\n",
       "</thead>\n",
       "<tbody>\n",
       "<tr><td>CAN </td><td>Canada       </td><td>NAC     </td><td>HIC          </td></tr>\n",
       "<tr><td>MEX </td><td>Mexico       </td><td>LCN     </td><td>UMC          </td></tr>\n",
       "<tr><td>USA </td><td>United States</td><td>NAC     </td><td>HIC          </td></tr>\n",
       "<tr><td>    </td><td>3 elements   </td><td>        </td><td>             </td></tr>\n",
       "</tbody>\n",
       "</table></div>"
      ],
      "text/plain": [
       "id    value          region    incomeLevel\n",
       "----  -------------  --------  -------------\n",
       "CAN   Canada         NAC       HIC\n",
       "MEX   Mexico         LCN       UMC\n",
       "USA   United States  NAC       HIC\n",
       "      3 elements"
      ]
     },
     "execution_count": 11,
     "metadata": {},
     "output_type": "execute_result"
    }
   ],
   "source": [
    "wb.series.info('NY.GDP.PCAP.CD')           # GDP\n",
    "wb.economy.info(['CAN', 'USA', 'MEX'])     # Countries in North America"
   ]
  },
  {
   "cell_type": "code",
   "execution_count": 12,
   "metadata": {},
   "outputs": [
    {
     "name": "stdout",
     "output_type": "stream",
     "text": [
      "                EN.ATM.CO2E.KT  SP.POP.TOTL\n",
      "economy time                               \n",
      "ARG     YR2000        132268.3   37070774.0\n",
      "        YR2001        125258.1   37480493.0\n",
      "        YR2002        117465.0   37885028.0\n",
      "        YR2003        127656.0   38278164.0\n",
      "        YR2004        141375.9   38668796.0\n",
      "...                        ...          ...\n",
      "PER     YR2015         54553.7   30711863.0\n",
      "        YR2016         56860.4   31132779.0\n",
      "        YR2017         54274.3   31605486.0\n",
      "        YR2018         54590.0   32203944.0\n",
      "        YR2019         56746.3   32824861.0\n",
      "\n",
      "[80 rows x 2 columns]\n"
     ]
    }
   ],
   "source": [
    "indicadores=wb.data.DataFrame(['SP.POP.TOTL', 'EN.ATM.CO2E.KT'],['PER','ECU','COL','ARG'], time=range(2000, 2020), skipBlanks=False, columns='series')\n",
    "print(indicadores)"
   ]
  },
  {
   "cell_type": "code",
   "execution_count": 18,
   "metadata": {},
   "outputs": [
    {
     "data": {
      "text/html": [
       "<div>\n",
       "<style scoped>\n",
       "    .dataframe tbody tr th:only-of-type {\n",
       "        vertical-align: middle;\n",
       "    }\n",
       "\n",
       "    .dataframe tbody tr th {\n",
       "        vertical-align: top;\n",
       "    }\n",
       "\n",
       "    .dataframe thead th {\n",
       "        text-align: right;\n",
       "    }\n",
       "</style>\n",
       "<table border=\"1\" class=\"dataframe\">\n",
       "  <thead>\n",
       "    <tr style=\"text-align: right;\">\n",
       "      <th></th>\n",
       "      <th></th>\n",
       "      <th>EN.ATM.CO2E.KT</th>\n",
       "      <th>SP.POP.TOTL</th>\n",
       "    </tr>\n",
       "    <tr>\n",
       "      <th>economy</th>\n",
       "      <th>time</th>\n",
       "      <th></th>\n",
       "      <th></th>\n",
       "    </tr>\n",
       "  </thead>\n",
       "  <tbody>\n",
       "    <tr>\n",
       "      <th rowspan=\"5\" valign=\"top\">ARG</th>\n",
       "      <th>YR2000</th>\n",
       "      <td>132268.3</td>\n",
       "      <td>37070774.0</td>\n",
       "    </tr>\n",
       "    <tr>\n",
       "      <th>YR2001</th>\n",
       "      <td>125258.1</td>\n",
       "      <td>37480493.0</td>\n",
       "    </tr>\n",
       "    <tr>\n",
       "      <th>YR2002</th>\n",
       "      <td>117465.0</td>\n",
       "      <td>37885028.0</td>\n",
       "    </tr>\n",
       "    <tr>\n",
       "      <th>YR2003</th>\n",
       "      <td>127656.0</td>\n",
       "      <td>38278164.0</td>\n",
       "    </tr>\n",
       "    <tr>\n",
       "      <th>YR2004</th>\n",
       "      <td>141375.9</td>\n",
       "      <td>38668796.0</td>\n",
       "    </tr>\n",
       "    <tr>\n",
       "      <th>...</th>\n",
       "      <th>...</th>\n",
       "      <td>...</td>\n",
       "      <td>...</td>\n",
       "    </tr>\n",
       "    <tr>\n",
       "      <th rowspan=\"5\" valign=\"top\">PER</th>\n",
       "      <th>YR2015</th>\n",
       "      <td>54553.7</td>\n",
       "      <td>30711863.0</td>\n",
       "    </tr>\n",
       "    <tr>\n",
       "      <th>YR2016</th>\n",
       "      <td>56860.4</td>\n",
       "      <td>31132779.0</td>\n",
       "    </tr>\n",
       "    <tr>\n",
       "      <th>YR2017</th>\n",
       "      <td>54274.3</td>\n",
       "      <td>31605486.0</td>\n",
       "    </tr>\n",
       "    <tr>\n",
       "      <th>YR2018</th>\n",
       "      <td>54590.0</td>\n",
       "      <td>32203944.0</td>\n",
       "    </tr>\n",
       "    <tr>\n",
       "      <th>YR2019</th>\n",
       "      <td>56746.3</td>\n",
       "      <td>32824861.0</td>\n",
       "    </tr>\n",
       "  </tbody>\n",
       "</table>\n",
       "<p>80 rows × 2 columns</p>\n",
       "</div>"
      ],
      "text/plain": [
       "                EN.ATM.CO2E.KT  SP.POP.TOTL\n",
       "economy time                               \n",
       "ARG     YR2000        132268.3   37070774.0\n",
       "        YR2001        125258.1   37480493.0\n",
       "        YR2002        117465.0   37885028.0\n",
       "        YR2003        127656.0   38278164.0\n",
       "        YR2004        141375.9   38668796.0\n",
       "...                        ...          ...\n",
       "PER     YR2015         54553.7   30711863.0\n",
       "        YR2016         56860.4   31132779.0\n",
       "        YR2017         54274.3   31605486.0\n",
       "        YR2018         54590.0   32203944.0\n",
       "        YR2019         56746.3   32824861.0\n",
       "\n",
       "[80 rows x 2 columns]"
      ]
     },
     "execution_count": 18,
     "metadata": {},
     "output_type": "execute_result"
    }
   ],
   "source": [
    "indicadores"
   ]
  },
  {
   "cell_type": "code",
   "execution_count": 17,
   "metadata": {},
   "outputs": [
    {
     "name": "stdout",
     "output_type": "stream",
     "text": [
      "   economy  EN.ATM.CO2E.KT  SP.POP.TOTL Country Name\n",
      "0      ARG        132268.3   37070774.0    Argentina\n",
      "1      ARG        125258.1   37480493.0    Argentina\n",
      "2      ARG        117465.0   37885028.0    Argentina\n",
      "3      ARG        127656.0   38278164.0    Argentina\n",
      "4      ARG        141375.9   38668796.0    Argentina\n",
      "..     ...             ...          ...          ...\n",
      "75     PER         54553.7   30711863.0         Perú\n",
      "76     PER         56860.4   31132779.0         Perú\n",
      "77     PER         54274.3   31605486.0         Perú\n",
      "78     PER         54590.0   32203944.0         Perú\n",
      "79     PER         56746.3   32824861.0         Perú\n",
      "\n",
      "[80 rows x 4 columns]\n"
     ]
    }
   ],
   "source": [
    "# Tu código existente para generar el DataFrame 'indicadores'\n",
    "indicadores = wb.data.DataFrame(['SP.POP.TOTL', 'EN.ATM.CO2E.KT'], ['PER','ECU','COL','ARG'], time=range(2000, 2020), skipBlanks=False, columns='series')\n",
    "\n",
    "# Crea un DataFrame de referencia con todos los países y sus nombres correspondientes\n",
    "paises = pd.DataFrame({'economy': ['PER', 'ECU', 'COL', 'ARG'], 'Country Name': ['Perú', 'Ecuador', 'Colombia', 'Argentina']})\n",
    "\n",
    "# Utiliza merge para combinar los DataFrames 'indicadores' y 'paises' basándose en la columna 'economy'\n",
    "indicadores_con_nombres = pd.merge(indicadores, paises, how='left', left_on='economy', right_on='economy')\n",
    "\n",
    "# Rellena los espacios en blanco con los nombres de los países utilizando el método 'ffill()'\n",
    "indicadores_con_nombres['Country Name'] = indicadores_con_nombres.groupby('economy')['Country Name'].transform(lambda x: x.ffill())\n",
    "\n",
    "print(indicadores_con_nombres)"
   ]
  },
  {
   "cell_type": "code",
   "execution_count": 15,
   "metadata": {},
   "outputs": [
    {
     "name": "stdout",
     "output_type": "stream",
     "text": [
      "   economy  EN.ATM.CO2E.KT  SP.POP.TOTL Country Name\n",
      "0      ARG        132268.3   37070774.0    Argentina\n",
      "1      ARG        125258.1   37480493.0    Argentina\n",
      "2      ARG        117465.0   37885028.0    Argentina\n",
      "3      ARG        127656.0   38278164.0    Argentina\n",
      "4      ARG        141375.9   38668796.0    Argentina\n",
      "..     ...             ...          ...          ...\n",
      "75     PER         54553.7   30711863.0         Perú\n",
      "76     PER         56860.4   31132779.0         Perú\n",
      "77     PER         54274.3   31605486.0         Perú\n",
      "78     PER         54590.0   32203944.0         Perú\n",
      "79     PER         56746.3   32824861.0         Perú\n",
      "\n",
      "[80 rows x 4 columns]\n"
     ]
    }
   ],
   "source": [
    "import pandas as pd\n",
    "\n",
    "# Tu código existente para generar el DataFrame 'indicadores'\n",
    "indicadores = wb.data.DataFrame(['SP.POP.TOTL', 'EN.ATM.CO2E.KT'], ['PER','ECU','COL','ARG'], time=range(2000, 2020), skipBlanks=False, columns='series')\n",
    "\n",
    "# Crea un DataFrame de referencia con todos los países y sus nombres correspondientes\n",
    "paises = pd.DataFrame({'economy': ['PER', 'ECU', 'COL', 'ARG'], 'Country Name': ['Perú', 'Ecuador', 'Colombia', 'Argentina']})\n",
    "\n",
    "# Utiliza merge para combinar los DataFrames 'indicadores' y 'paises' basándose en la columna 'Country'\n",
    "indicadores_con_nombres = pd.merge(indicadores, paises, how='left', left_on='economy', right_on='economy')\n",
    "\n",
    "# Rellena los espacios en blanco con los nombres de los países\n",
    "indicadores_con_nombres['Country Name'] = indicadores_con_nombres['Country Name'].fillna(method='ffill')\n",
    "\n",
    "# Elimina la columna 'Country' si no es necesaria\n",
    "#indicadores_con_nombres = indicadores_con_nombres.drop('economy', axis=1)\n",
    "\n",
    "print(indicadores_con_nombres)\n"
   ]
  },
  {
   "cell_type": "code",
   "execution_count": 57,
   "metadata": {},
   "outputs": [
    {
     "name": "stdout",
     "output_type": "stream",
     "text": [
      "                              YR2010        YR2011        YR2012  \\\n",
      "economy series                                                     \n",
      "ECU     NY.GDP.PCAP.CD   4640.246344   5202.656459   5678.455721   \n",
      "        SP.DYN.LE00.IN     75.430000     75.743000     76.062000   \n",
      "PER     NY.GDP.PCAP.CD   5047.249307   5826.832307   6475.686070   \n",
      "        SP.DYN.LE00.IN     73.711000     74.133000     74.544000   \n",
      "USA     NY.GDP.PCAP.CD  48650.643128  50065.966504  51784.418574   \n",
      "        SP.DYN.LE00.IN     78.541463     78.641463     78.741463   \n",
      "\n",
      "                              YR2013        YR2014  \n",
      "economy series                                      \n",
      "ECU     NY.GDP.PCAP.CD   6050.354611   6374.631486  \n",
      "        SP.DYN.LE00.IN     76.369000     76.622000  \n",
      "PER     NY.GDP.PCAP.CD   6697.185268   6614.933339  \n",
      "        SP.DYN.LE00.IN     74.967000     75.333000  \n",
      "USA     NY.GDP.PCAP.CD  53291.127689  55123.849787  \n",
      "        SP.DYN.LE00.IN     78.741463     78.841463  \n"
     ]
    }
   ],
   "source": [
    "PBI=wb.data.DataFrame(['NY.GDP.PCAP.CD', 'SP.DYN.LE00.IN'],['PER','ECU','USA'], range(2010,2015))#.transpose()\n",
    "print(PBI)"
   ]
  },
  {
   "cell_type": "code",
   "execution_count": 50,
   "metadata": {},
   "outputs": [
    {
     "data": {
      "text/html": [
       "<div>\n",
       "<style scoped>\n",
       "    .dataframe tbody tr th:only-of-type {\n",
       "        vertical-align: middle;\n",
       "    }\n",
       "\n",
       "    .dataframe tbody tr th {\n",
       "        vertical-align: top;\n",
       "    }\n",
       "\n",
       "    .dataframe thead th {\n",
       "        text-align: right;\n",
       "    }\n",
       "</style>\n",
       "<table border=\"1\" class=\"dataframe\">\n",
       "  <thead>\n",
       "    <tr style=\"text-align: right;\">\n",
       "      <th></th>\n",
       "      <th></th>\n",
       "      <th>YR2010</th>\n",
       "      <th>YR2011</th>\n",
       "      <th>YR2012</th>\n",
       "      <th>YR2013</th>\n",
       "      <th>YR2014</th>\n",
       "    </tr>\n",
       "    <tr>\n",
       "      <th>economy</th>\n",
       "      <th>series</th>\n",
       "      <th></th>\n",
       "      <th></th>\n",
       "      <th></th>\n",
       "      <th></th>\n",
       "      <th></th>\n",
       "    </tr>\n",
       "  </thead>\n",
       "  <tbody>\n",
       "    <tr>\n",
       "      <th rowspan=\"2\" valign=\"top\">ECU</th>\n",
       "      <th>NY.GDP.PCAP.CD</th>\n",
       "      <td>4640.246344</td>\n",
       "      <td>5202.656459</td>\n",
       "      <td>5678.455721</td>\n",
       "      <td>6050.354611</td>\n",
       "      <td>6374.631486</td>\n",
       "    </tr>\n",
       "    <tr>\n",
       "      <th>SP.DYN.LE00.IN</th>\n",
       "      <td>75.430000</td>\n",
       "      <td>75.743000</td>\n",
       "      <td>76.062000</td>\n",
       "      <td>76.369000</td>\n",
       "      <td>76.622000</td>\n",
       "    </tr>\n",
       "    <tr>\n",
       "      <th>PER</th>\n",
       "      <th>NY.GDP.PCAP.CD</th>\n",
       "      <td>5047.249307</td>\n",
       "      <td>5826.832307</td>\n",
       "      <td>6475.686070</td>\n",
       "      <td>6697.185268</td>\n",
       "      <td>6614.933339</td>\n",
       "    </tr>\n",
       "  </tbody>\n",
       "</table>\n",
       "</div>"
      ],
      "text/plain": [
       "                             YR2010       YR2011       YR2012       YR2013  \\\n",
       "economy series                                                               \n",
       "ECU     NY.GDP.PCAP.CD  4640.246344  5202.656459  5678.455721  6050.354611   \n",
       "        SP.DYN.LE00.IN    75.430000    75.743000    76.062000    76.369000   \n",
       "PER     NY.GDP.PCAP.CD  5047.249307  5826.832307  6475.686070  6697.185268   \n",
       "\n",
       "                             YR2014  \n",
       "economy series                       \n",
       "ECU     NY.GDP.PCAP.CD  6374.631486  \n",
       "        SP.DYN.LE00.IN    76.622000  \n",
       "PER     NY.GDP.PCAP.CD  6614.933339  "
      ]
     },
     "execution_count": 50,
     "metadata": {},
     "output_type": "execute_result"
    }
   ],
   "source": [
    "PBI.head(3)"
   ]
  },
  {
   "cell_type": "code",
   "execution_count": 45,
   "metadata": {},
   "outputs": [
    {
     "data": {
      "text/plain": [
       "<function wbgapi.economy.info(id='all', q=None, skipAggs=False, db=None)>"
      ]
     },
     "execution_count": 45,
     "metadata": {},
     "output_type": "execute_result"
    }
   ],
   "source": [
    "wb.series.info\n",
    "wb.economy.info"
   ]
  },
  {
   "cell_type": "code",
   "execution_count": 46,
   "metadata": {},
   "outputs": [
    {
     "name": "stdout",
     "output_type": "stream",
     "text": [
      "========\n",
      "Series: NY.GDP.PCAP.CD\n",
      "\n",
      "IndicatorName: GDP per capita (current US$)\n",
      "--------\n",
      "Longdefinition: ...GDP per capita is gross domestic product divided by midyear population. GDP is the sum of...\n",
      "========\n",
      "Series: NY.GDP.PCAP.CN\n",
      "\n",
      "IndicatorName: GDP per capita (current LCU)\n",
      "--------\n",
      "Longdefinition: ...GDP per capita is gross domestic product divided by midyear population. GDP is the sum of...\n",
      "========\n",
      "Series: NY.GDP.PCAP.KD\n",
      "\n",
      "IndicatorName: GDP per capita (constant 2015 US$)\n",
      "--------\n",
      "Longdefinition: ...GDP per capita is gross domestic product divided by midyear population. GDP is the sum of...\n",
      "========\n",
      "Series: NY.GDP.PCAP.KD.ZG\n",
      "\n",
      "IndicatorName: GDP per capita growth (annual %)\n",
      "--------\n",
      "Longdefinition: ...Annual percentage growth rate of GDP per capita based on constant local currency. GDP per capita is gross domestic product...\n",
      "========\n",
      "Series: NY.GDP.PCAP.KN\n",
      "\n",
      "IndicatorName: GDP per capita (constant LCU)\n",
      "--------\n",
      "Longdefinition: ...GDP per capita is gross domestic product divided by midyear population. GDP at purchaser's...\n",
      "========\n",
      "Series: NY.GDP.PCAP.PP.CD\n",
      "\n",
      "IndicatorName: GDP per capita, PPP (current international $)\n",
      "========\n",
      "Series: NY.GDP.PCAP.PP.KD\n",
      "\n",
      "IndicatorName: GDP per capita, PPP (constant 2017 international $)\n",
      "--------\n",
      "Longdefinition: ...GDP per capita based on purchasing power parity (PPP). PPP GDP is gross domestic product...\n",
      "========\n",
      "Series: PA.NUS.PPP\n",
      "\n",
      "Developmentrelevance: ...of PPPs with limitations  include: To analyze changes over time in relative GDP per capita and relative prices | To analyze price convergence | To make spatial...\n",
      "========\n",
      "Series: PA.NUS.PRVT.PP\n",
      "\n",
      "Developmentrelevance: ...of PPPs with limitations  include: To analyze changes over time in relative GDP per capita and relative prices | To analyze price convergence | To make spatial...\n",
      "========\n",
      "Series: SE.XPD.PRIM.PC.ZS\n",
      "\n",
      "IndicatorName: Government expenditure per student, primary (% of GDP per capita)\n",
      "--------\n",
      "Longdefinition: ... per student in the given level of education, expressed as a percentage of GDP per capita....\n",
      "--------\n",
      "Statisticalconceptandmethodology: ...by the number of students at primary level, expressed as a percentage of GDP per capita. Aggregate data are World Bank estimates....\n",
      "========\n",
      "Series: SE.XPD.SECO.PC.ZS\n",
      "\n",
      "IndicatorName: Government expenditure per student, secondary (% of GDP per capita)\n",
      "--------\n",
      "Longdefinition: ... per student in the given level of education, expressed as a percentage of GDP per capita....\n",
      "--------\n",
      "Statisticalconceptandmethodology: ...by the number of students at secondary level, expressed as a percentage of GDP per capita. Aggregate data are World Bank estimates....\n",
      "========\n",
      "Series: SE.XPD.TERT.PC.ZS\n",
      "\n",
      "IndicatorName: Government expenditure per student, tertiary (% of GDP per capita)\n",
      "--------\n",
      "Longdefinition: ... per student in the given level of education, expressed as a percentage of GDP per capita....\n",
      "--------\n",
      "Statisticalconceptandmethodology: ...by the number of students at tertiary level, expressed as a percentage of GDP per capita. Aggregate data are World Bank estimates....\n",
      "========\n",
      "Series: SE.XPD.TOTL.PC.ZS\n",
      "\n",
      "IndicatorName: Expenditure per student, total (% of GDP per capita)\n",
      "--------\n",
      "Longdefinition: ...on education divided by the total number of students, as a percentage of GDP per capita. Public expenditure (current and capital) includes government spending on...\n",
      "\n"
     ]
    }
   ],
   "source": [
    "s=wb.search('GDP per capita')\n",
    "print(s)"
   ]
  }
 ],
 "metadata": {
  "kernelspec": {
   "display_name": "Python 3",
   "language": "python",
   "name": "python3"
  },
  "language_info": {
   "codemirror_mode": {
    "name": "ipython",
    "version": 3
   },
   "file_extension": ".py",
   "mimetype": "text/x-python",
   "name": "python",
   "nbconvert_exporter": "python",
   "pygments_lexer": "ipython3",
   "version": "3.10.11"
  },
  "orig_nbformat": 4
 },
 "nbformat": 4,
 "nbformat_minor": 2
}
